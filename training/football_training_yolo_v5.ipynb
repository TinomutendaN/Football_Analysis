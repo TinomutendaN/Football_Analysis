{
 "cells": [
  {
   "cell_type": "code",
   "execution_count": 1,
   "metadata": {},
   "outputs": [
    {
     "name": "stdout",
     "output_type": "stream",
     "text": [
      "Requirement already satisfied: ultralytics in c:\\users\\tynoe\\appdata\\roaming\\python\\python312\\site-packages (8.2.82)\n",
      "Requirement already satisfied: numpy<2.0.0,>=1.23.0 in c:\\users\\tynoe\\appdata\\roaming\\python\\python312\\site-packages (from ultralytics) (1.26.4)\n",
      "Requirement already satisfied: matplotlib>=3.3.0 in c:\\users\\tynoe\\appdata\\roaming\\python\\python312\\site-packages (from ultralytics) (3.9.2)\n",
      "Requirement already satisfied: opencv-python>=4.6.0 in c:\\users\\tynoe\\appdata\\roaming\\python\\python312\\site-packages (from ultralytics) (4.10.0.84)\n",
      "Requirement already satisfied: pillow>=7.1.2 in c:\\users\\tynoe\\appdata\\roaming\\python\\python312\\site-packages (from ultralytics) (10.4.0)\n",
      "Requirement already satisfied: pyyaml>=5.3.1 in c:\\users\\tynoe\\appdata\\roaming\\python\\python312\\site-packages (from ultralytics) (6.0.2)\n",
      "Requirement already satisfied: requests>=2.23.0 in c:\\users\\tynoe\\appdata\\roaming\\python\\python312\\site-packages (from ultralytics) (2.32.3)\n",
      "Requirement already satisfied: scipy>=1.4.1 in c:\\users\\tynoe\\appdata\\roaming\\python\\python312\\site-packages (from ultralytics) (1.14.1)\n",
      "Requirement already satisfied: torch>=1.8.0 in c:\\users\\tynoe\\appdata\\roaming\\python\\python312\\site-packages (from ultralytics) (2.4.0)\n",
      "Requirement already satisfied: torchvision>=0.9.0 in c:\\users\\tynoe\\appdata\\roaming\\python\\python312\\site-packages (from ultralytics) (0.19.0)\n",
      "Requirement already satisfied: tqdm>=4.64.0 in c:\\users\\tynoe\\appdata\\roaming\\python\\python312\\site-packages (from ultralytics) (4.66.5)\n",
      "Requirement already satisfied: psutil in c:\\users\\tynoe\\appdata\\roaming\\python\\python312\\site-packages (from ultralytics) (6.0.0)\n",
      "Requirement already satisfied: py-cpuinfo in c:\\users\\tynoe\\appdata\\roaming\\python\\python312\\site-packages (from ultralytics) (9.0.0)\n",
      "Requirement already satisfied: pandas>=1.1.4 in c:\\users\\tynoe\\appdata\\roaming\\python\\python312\\site-packages (from ultralytics) (2.2.2)\n",
      "Requirement already satisfied: seaborn>=0.11.0 in c:\\users\\tynoe\\appdata\\roaming\\python\\python312\\site-packages (from ultralytics) (0.13.2)\n",
      "Requirement already satisfied: ultralytics-thop>=2.0.0 in c:\\users\\tynoe\\appdata\\roaming\\python\\python312\\site-packages (from ultralytics) (2.0.5)\n",
      "Requirement already satisfied: contourpy>=1.0.1 in c:\\users\\tynoe\\appdata\\roaming\\python\\python312\\site-packages (from matplotlib>=3.3.0->ultralytics) (1.2.1)\n",
      "Requirement already satisfied: cycler>=0.10 in c:\\users\\tynoe\\appdata\\roaming\\python\\python312\\site-packages (from matplotlib>=3.3.0->ultralytics) (0.12.1)\n",
      "Requirement already satisfied: fonttools>=4.22.0 in c:\\users\\tynoe\\appdata\\roaming\\python\\python312\\site-packages (from matplotlib>=3.3.0->ultralytics) (4.53.1)\n",
      "Requirement already satisfied: kiwisolver>=1.3.1 in c:\\users\\tynoe\\appdata\\roaming\\python\\python312\\site-packages (from matplotlib>=3.3.0->ultralytics) (1.4.5)\n",
      "Requirement already satisfied: packaging>=20.0 in c:\\users\\tynoe\\appdata\\roaming\\python\\python312\\site-packages (from matplotlib>=3.3.0->ultralytics) (24.1)\n",
      "Requirement already satisfied: pyparsing>=2.3.1 in c:\\users\\tynoe\\appdata\\roaming\\python\\python312\\site-packages (from matplotlib>=3.3.0->ultralytics) (3.1.4)\n",
      "Requirement already satisfied: python-dateutil>=2.7 in c:\\users\\tynoe\\appdata\\roaming\\python\\python312\\site-packages (from matplotlib>=3.3.0->ultralytics) (2.9.0.post0)\n",
      "Requirement already satisfied: pytz>=2020.1 in c:\\users\\tynoe\\appdata\\roaming\\python\\python312\\site-packages (from pandas>=1.1.4->ultralytics) (2024.1)\n",
      "Requirement already satisfied: tzdata>=2022.7 in c:\\users\\tynoe\\appdata\\roaming\\python\\python312\\site-packages (from pandas>=1.1.4->ultralytics) (2024.1)\n",
      "Requirement already satisfied: charset-normalizer<4,>=2 in c:\\users\\tynoe\\appdata\\roaming\\python\\python312\\site-packages (from requests>=2.23.0->ultralytics) (3.3.2)\n",
      "Requirement already satisfied: idna<4,>=2.5 in c:\\users\\tynoe\\appdata\\roaming\\python\\python312\\site-packages (from requests>=2.23.0->ultralytics) (3.8)\n",
      "Requirement already satisfied: urllib3<3,>=1.21.1 in c:\\users\\tynoe\\appdata\\roaming\\python\\python312\\site-packages (from requests>=2.23.0->ultralytics) (2.2.2)\n",
      "Requirement already satisfied: certifi>=2017.4.17 in c:\\users\\tynoe\\appdata\\roaming\\python\\python312\\site-packages (from requests>=2.23.0->ultralytics) (2024.7.4)\n",
      "Requirement already satisfied: filelock in c:\\users\\tynoe\\appdata\\roaming\\python\\python312\\site-packages (from torch>=1.8.0->ultralytics) (3.15.4)\n",
      "Requirement already satisfied: typing-extensions>=4.8.0 in c:\\users\\tynoe\\appdata\\roaming\\python\\python312\\site-packages (from torch>=1.8.0->ultralytics) (4.12.2)\n",
      "Requirement already satisfied: sympy in c:\\users\\tynoe\\appdata\\roaming\\python\\python312\\site-packages (from torch>=1.8.0->ultralytics) (1.13.2)\n",
      "Requirement already satisfied: networkx in c:\\users\\tynoe\\appdata\\roaming\\python\\python312\\site-packages (from torch>=1.8.0->ultralytics) (3.3)\n",
      "Requirement already satisfied: jinja2 in c:\\users\\tynoe\\appdata\\roaming\\python\\python312\\site-packages (from torch>=1.8.0->ultralytics) (3.1.4)\n",
      "Requirement already satisfied: fsspec in c:\\users\\tynoe\\appdata\\roaming\\python\\python312\\site-packages (from torch>=1.8.0->ultralytics) (2024.6.1)\n",
      "Requirement already satisfied: setuptools in c:\\users\\tynoe\\appdata\\roaming\\python\\python312\\site-packages (from torch>=1.8.0->ultralytics) (73.0.1)\n",
      "Requirement already satisfied: colorama in c:\\users\\tynoe\\appdata\\roaming\\python\\python312\\site-packages (from tqdm>=4.64.0->ultralytics) (0.4.6)\n",
      "Requirement already satisfied: six>=1.5 in c:\\users\\tynoe\\appdata\\roaming\\python\\python312\\site-packages (from python-dateutil>=2.7->matplotlib>=3.3.0->ultralytics) (1.16.0)\n",
      "Requirement already satisfied: MarkupSafe>=2.0 in c:\\users\\tynoe\\appdata\\roaming\\python\\python312\\site-packages (from jinja2->torch>=1.8.0->ultralytics) (2.1.5)\n",
      "Requirement already satisfied: mpmath<1.4,>=1.1.0 in c:\\users\\tynoe\\appdata\\roaming\\python\\python312\\site-packages (from sympy->torch>=1.8.0->ultralytics) (1.3.0)\n",
      "Collecting roboflow\n",
      "  Downloading roboflow-1.1.43-py3-none-any.whl.metadata (9.7 kB)\n",
      "Requirement already satisfied: certifi in c:\\users\\tynoe\\appdata\\roaming\\python\\python312\\site-packages (from roboflow) (2024.7.4)\n",
      "Collecting idna==3.7 (from roboflow)\n",
      "  Using cached idna-3.7-py3-none-any.whl.metadata (9.9 kB)\n",
      "Requirement already satisfied: cycler in c:\\users\\tynoe\\appdata\\roaming\\python\\python312\\site-packages (from roboflow) (0.12.1)\n",
      "Requirement already satisfied: kiwisolver>=1.3.1 in c:\\users\\tynoe\\appdata\\roaming\\python\\python312\\site-packages (from roboflow) (1.4.5)\n",
      "Requirement already satisfied: matplotlib in c:\\users\\tynoe\\appdata\\roaming\\python\\python312\\site-packages (from roboflow) (3.9.2)\n",
      "Requirement already satisfied: numpy>=1.18.5 in c:\\users\\tynoe\\appdata\\roaming\\python\\python312\\site-packages (from roboflow) (1.26.4)\n",
      "Collecting opencv-python-headless==4.10.0.84 (from roboflow)\n",
      "  Downloading opencv_python_headless-4.10.0.84-cp37-abi3-win_amd64.whl.metadata (20 kB)\n",
      "Requirement already satisfied: Pillow>=7.1.2 in c:\\users\\tynoe\\appdata\\roaming\\python\\python312\\site-packages (from roboflow) (10.4.0)\n",
      "Requirement already satisfied: python-dateutil in c:\\users\\tynoe\\appdata\\roaming\\python\\python312\\site-packages (from roboflow) (2.9.0.post0)\n",
      "Collecting python-dotenv (from roboflow)\n",
      "  Using cached python_dotenv-1.0.1-py3-none-any.whl.metadata (23 kB)\n",
      "Requirement already satisfied: requests in c:\\users\\tynoe\\appdata\\roaming\\python\\python312\\site-packages (from roboflow) (2.32.3)\n",
      "Requirement already satisfied: six in c:\\users\\tynoe\\appdata\\roaming\\python\\python312\\site-packages (from roboflow) (1.16.0)\n",
      "Requirement already satisfied: urllib3>=1.26.6 in c:\\users\\tynoe\\appdata\\roaming\\python\\python312\\site-packages (from roboflow) (2.2.2)\n",
      "Requirement already satisfied: tqdm>=4.41.0 in c:\\users\\tynoe\\appdata\\roaming\\python\\python312\\site-packages (from roboflow) (4.66.5)\n",
      "Requirement already satisfied: PyYAML>=5.3.1 in c:\\users\\tynoe\\appdata\\roaming\\python\\python312\\site-packages (from roboflow) (6.0.2)\n",
      "Collecting requests-toolbelt (from roboflow)\n",
      "  Downloading requests_toolbelt-1.0.0-py2.py3-none-any.whl.metadata (14 kB)\n",
      "Collecting filetype (from roboflow)\n",
      "  Downloading filetype-1.2.0-py2.py3-none-any.whl.metadata (6.5 kB)\n",
      "Requirement already satisfied: colorama in c:\\users\\tynoe\\appdata\\roaming\\python\\python312\\site-packages (from tqdm>=4.41.0->roboflow) (0.4.6)\n",
      "Requirement already satisfied: contourpy>=1.0.1 in c:\\users\\tynoe\\appdata\\roaming\\python\\python312\\site-packages (from matplotlib->roboflow) (1.2.1)\n",
      "Requirement already satisfied: fonttools>=4.22.0 in c:\\users\\tynoe\\appdata\\roaming\\python\\python312\\site-packages (from matplotlib->roboflow) (4.53.1)\n",
      "Requirement already satisfied: packaging>=20.0 in c:\\users\\tynoe\\appdata\\roaming\\python\\python312\\site-packages (from matplotlib->roboflow) (24.1)\n",
      "Requirement already satisfied: pyparsing>=2.3.1 in c:\\users\\tynoe\\appdata\\roaming\\python\\python312\\site-packages (from matplotlib->roboflow) (3.1.4)\n",
      "Requirement already satisfied: charset-normalizer<4,>=2 in c:\\users\\tynoe\\appdata\\roaming\\python\\python312\\site-packages (from requests->roboflow) (3.3.2)\n",
      "Downloading roboflow-1.1.43-py3-none-any.whl (79 kB)\n",
      "Using cached idna-3.7-py3-none-any.whl (66 kB)\n",
      "Downloading opencv_python_headless-4.10.0.84-cp37-abi3-win_amd64.whl (38.8 MB)\n",
      "   ---------------------------------------- 0.0/38.8 MB ? eta -:--:--\n",
      "   ---------------------------------------- 0.0/38.8 MB ? eta -:--:--\n",
      "   ---------------------------------------- 0.3/38.8 MB ? eta -:--:--\n",
      "    --------------------------------------- 0.5/38.8 MB 1.7 MB/s eta 0:00:23\n",
      "    --------------------------------------- 0.8/38.8 MB 1.7 MB/s eta 0:00:23\n",
      "   - -------------------------------------- 1.0/38.8 MB 1.1 MB/s eta 0:00:33\n",
      "   - -------------------------------------- 1.3/38.8 MB 1.2 MB/s eta 0:00:31\n",
      "   - -------------------------------------- 1.3/38.8 MB 1.2 MB/s eta 0:00:31\n",
      "   - -------------------------------------- 1.6/38.8 MB 1.1 MB/s eta 0:00:34\n",
      "   -- ------------------------------------- 2.1/38.8 MB 1.2 MB/s eta 0:00:31\n",
      "   -- ------------------------------------- 2.1/38.8 MB 1.2 MB/s eta 0:00:31\n",
      "   -- ------------------------------------- 2.4/38.8 MB 1.1 MB/s eta 0:00:33\n",
      "   -- ------------------------------------- 2.6/38.8 MB 1.2 MB/s eta 0:00:32\n",
      "   -- ------------------------------------- 2.9/38.8 MB 1.2 MB/s eta 0:00:31\n",
      "   --- ------------------------------------ 3.1/38.8 MB 1.1 MB/s eta 0:00:33\n",
      "   --- ------------------------------------ 3.4/38.8 MB 1.1 MB/s eta 0:00:32\n",
      "   --- ------------------------------------ 3.7/38.8 MB 1.1 MB/s eta 0:00:31\n",
      "   --- ------------------------------------ 3.7/38.8 MB 1.1 MB/s eta 0:00:31\n",
      "   ---- ----------------------------------- 4.2/38.8 MB 1.1 MB/s eta 0:00:31\n",
      "   ---- ----------------------------------- 4.2/38.8 MB 1.1 MB/s eta 0:00:31\n",
      "   ---- ----------------------------------- 4.5/38.8 MB 1.1 MB/s eta 0:00:31\n",
      "   ----- ---------------------------------- 5.0/38.8 MB 1.2 MB/s eta 0:00:30\n",
      "   ----- ---------------------------------- 5.0/38.8 MB 1.2 MB/s eta 0:00:30\n",
      "   ----- ---------------------------------- 5.2/38.8 MB 1.1 MB/s eta 0:00:30\n",
      "   ----- ---------------------------------- 5.8/38.8 MB 1.2 MB/s eta 0:00:29\n",
      "   ------ --------------------------------- 6.0/38.8 MB 1.2 MB/s eta 0:00:29\n",
      "   ------ --------------------------------- 6.3/38.8 MB 1.2 MB/s eta 0:00:28\n",
      "   ------ --------------------------------- 6.6/38.8 MB 1.2 MB/s eta 0:00:28\n",
      "   ------- -------------------------------- 6.8/38.8 MB 1.2 MB/s eta 0:00:27\n",
      "   ------- -------------------------------- 7.1/38.8 MB 1.2 MB/s eta 0:00:27\n",
      "   ------- -------------------------------- 7.3/38.8 MB 1.2 MB/s eta 0:00:27\n",
      "   ------- -------------------------------- 7.6/38.8 MB 1.2 MB/s eta 0:00:26\n",
      "   -------- ------------------------------- 7.9/38.8 MB 1.2 MB/s eta 0:00:26\n",
      "   -------- ------------------------------- 8.4/38.8 MB 1.2 MB/s eta 0:00:25\n",
      "   -------- ------------------------------- 8.7/38.8 MB 1.3 MB/s eta 0:00:24\n",
      "   --------- ------------------------------ 8.9/38.8 MB 1.3 MB/s eta 0:00:24\n",
      "   --------- ------------------------------ 9.4/38.8 MB 1.3 MB/s eta 0:00:24\n",
      "   ---------- ----------------------------- 9.7/38.8 MB 1.3 MB/s eta 0:00:23\n",
      "   ---------- ----------------------------- 10.2/38.8 MB 1.3 MB/s eta 0:00:22\n",
      "   ----------- ---------------------------- 10.7/38.8 MB 1.3 MB/s eta 0:00:21\n",
      "   ----------- ---------------------------- 11.0/38.8 MB 1.4 MB/s eta 0:00:21\n",
      "   ----------- ---------------------------- 11.5/38.8 MB 1.4 MB/s eta 0:00:20\n",
      "   ------------ --------------------------- 12.3/38.8 MB 1.4 MB/s eta 0:00:19\n",
      "   ------------ --------------------------- 12.6/38.8 MB 1.4 MB/s eta 0:00:19\n",
      "   ------------- -------------------------- 13.1/38.8 MB 1.4 MB/s eta 0:00:18\n",
      "   -------------- ------------------------- 13.9/38.8 MB 1.5 MB/s eta 0:00:17\n",
      "   -------------- ------------------------- 14.2/38.8 MB 1.5 MB/s eta 0:00:17\n",
      "   --------------- ------------------------ 14.7/38.8 MB 1.5 MB/s eta 0:00:17\n",
      "   --------------- ------------------------ 15.2/38.8 MB 1.5 MB/s eta 0:00:16\n",
      "   ---------------- ----------------------- 15.7/38.8 MB 1.6 MB/s eta 0:00:15\n",
      "   ---------------- ----------------------- 16.0/38.8 MB 1.6 MB/s eta 0:00:15\n",
      "   ----------------- ---------------------- 16.8/38.8 MB 1.6 MB/s eta 0:00:14\n",
      "   ----------------- ---------------------- 17.0/38.8 MB 1.6 MB/s eta 0:00:14\n",
      "   ------------------ --------------------- 17.6/38.8 MB 1.6 MB/s eta 0:00:14\n",
      "   ------------------ --------------------- 18.4/38.8 MB 1.6 MB/s eta 0:00:13\n",
      "   ------------------- -------------------- 18.9/38.8 MB 1.7 MB/s eta 0:00:12\n",
      "   ------------------- -------------------- 19.1/38.8 MB 1.7 MB/s eta 0:00:12\n",
      "   -------------------- ------------------- 19.9/38.8 MB 1.7 MB/s eta 0:00:12\n",
      "   -------------------- ------------------- 20.2/38.8 MB 1.7 MB/s eta 0:00:11\n",
      "   --------------------- ------------------ 20.7/38.8 MB 1.7 MB/s eta 0:00:11\n",
      "   --------------------- ------------------ 21.2/38.8 MB 1.7 MB/s eta 0:00:11\n",
      "   ---------------------- ----------------- 21.8/38.8 MB 1.7 MB/s eta 0:00:10\n",
      "   ---------------------- ----------------- 22.3/38.8 MB 1.7 MB/s eta 0:00:10\n",
      "   ----------------------- ---------------- 23.1/38.8 MB 1.8 MB/s eta 0:00:09\n",
      "   ------------------------ --------------- 23.6/38.8 MB 1.8 MB/s eta 0:00:09\n",
      "   ------------------------ --------------- 24.1/38.8 MB 1.8 MB/s eta 0:00:09\n",
      "   ------------------------- -------------- 24.9/38.8 MB 1.8 MB/s eta 0:00:08\n",
      "   -------------------------- ------------- 25.4/38.8 MB 1.8 MB/s eta 0:00:08\n",
      "   -------------------------- ------------- 25.7/38.8 MB 1.8 MB/s eta 0:00:08\n",
      "   --------------------------- ------------ 26.5/38.8 MB 1.8 MB/s eta 0:00:07\n",
      "   --------------------------- ------------ 26.7/38.8 MB 1.8 MB/s eta 0:00:07\n",
      "   ---------------------------- ----------- 27.3/38.8 MB 1.8 MB/s eta 0:00:07\n",
      "   ---------------------------- ----------- 27.8/38.8 MB 1.9 MB/s eta 0:00:06\n",
      "   ----------------------------- ---------- 28.3/38.8 MB 1.9 MB/s eta 0:00:06\n",
      "   ----------------------------- ---------- 28.8/38.8 MB 1.9 MB/s eta 0:00:06\n",
      "   ------------------------------ --------- 29.4/38.8 MB 1.9 MB/s eta 0:00:05\n",
      "   ------------------------------ --------- 29.9/38.8 MB 1.9 MB/s eta 0:00:05\n",
      "   ------------------------------- -------- 30.4/38.8 MB 1.9 MB/s eta 0:00:05\n",
      "   ------------------------------- -------- 30.9/38.8 MB 1.9 MB/s eta 0:00:05\n",
      "   -------------------------------- ------- 31.7/38.8 MB 1.9 MB/s eta 0:00:04\n",
      "   --------------------------------- ------ 32.0/38.8 MB 1.9 MB/s eta 0:00:04\n",
      "   --------------------------------- ------ 32.5/38.8 MB 1.9 MB/s eta 0:00:04\n",
      "   ---------------------------------- ----- 33.3/38.8 MB 2.0 MB/s eta 0:00:03\n",
      "   ---------------------------------- ----- 33.6/38.8 MB 1.9 MB/s eta 0:00:03\n",
      "   ----------------------------------- ---- 34.3/38.8 MB 2.0 MB/s eta 0:00:03\n",
      "   ----------------------------------- ---- 34.6/38.8 MB 2.0 MB/s eta 0:00:03\n",
      "   ----------------------------------- ---- 34.9/38.8 MB 2.0 MB/s eta 0:00:02\n",
      "   ------------------------------------ --- 35.4/38.8 MB 2.0 MB/s eta 0:00:02\n",
      "   ------------------------------------- -- 36.2/38.8 MB 2.0 MB/s eta 0:00:02\n",
      "   ------------------------------------- -- 36.4/38.8 MB 2.0 MB/s eta 0:00:02\n",
      "   -------------------------------------- - 37.0/38.8 MB 2.0 MB/s eta 0:00:01\n",
      "   -------------------------------------- - 37.5/38.8 MB 2.0 MB/s eta 0:00:01\n",
      "   -------------------------------------- - 37.7/38.8 MB 2.0 MB/s eta 0:00:01\n",
      "   ---------------------------------------  38.5/38.8 MB 2.0 MB/s eta 0:00:01\n",
      "   ---------------------------------------- 38.8/38.8 MB 2.0 MB/s eta 0:00:00\n",
      "Downloading filetype-1.2.0-py2.py3-none-any.whl (19 kB)\n",
      "Using cached python_dotenv-1.0.1-py3-none-any.whl (19 kB)\n",
      "Downloading requests_toolbelt-1.0.0-py2.py3-none-any.whl (54 kB)\n",
      "Installing collected packages: filetype, python-dotenv, opencv-python-headless, idna, requests-toolbelt, roboflow\n",
      "  Attempting uninstall: idna\n",
      "    Found existing installation: idna 3.8\n",
      "    Uninstalling idna-3.8:\n",
      "      Successfully uninstalled idna-3.8\n",
      "Successfully installed filetype-1.2.0 idna-3.7 opencv-python-headless-4.10.0.84 python-dotenv-1.0.1 requests-toolbelt-1.0.0 roboflow-1.1.43\n"
     ]
    }
   ],
   "source": [
    "!pip install ultralytics\n",
    "!pip install roboflow"
   ]
  },
  {
   "cell_type": "code",
   "execution_count": 2,
   "metadata": {},
   "outputs": [
    {
     "name": "stdout",
     "output_type": "stream",
     "text": [
      "loading Roboflow workspace...\n",
      "loading Roboflow project...\n"
     ]
    },
    {
     "name": "stderr",
     "output_type": "stream",
     "text": [
      "Downloading Dataset Version Zip in football-players-detection-1 to yolov5pytorch:: 100%|██████████| 148663/148663 [00:36<00:00, 4066.83it/s]"
     ]
    },
    {
     "name": "stdout",
     "output_type": "stream",
     "text": [
      "\n"
     ]
    },
    {
     "name": "stderr",
     "output_type": "stream",
     "text": [
      "\n",
      "Extracting Dataset Version Zip to football-players-detection-1 in yolov5pytorch:: 100%|██████████| 1338/1338 [00:02<00:00, 539.19it/s]\n"
     ]
    }
   ],
   "source": [
    "\n",
    "\n",
    "from roboflow import Roboflow\n",
    "rf = Roboflow(api_key=\"PsaAlvU5CovdmsdjfBJs\")\n",
    "project = rf.workspace(\"roboflow-jvuqo\").project(\"football-players-detection-3zvbc\")\n",
    "version = project.version(1)\n",
    "dataset = version.download(\"yolov5\")\n",
    "                "
   ]
  },
  {
   "cell_type": "code",
   "execution_count": 3,
   "metadata": {},
   "outputs": [
    {
     "data": {
      "text/plain": [
       "'football-players-detection-1/football-players-detection-1/valid'"
      ]
     },
     "execution_count": 3,
     "metadata": {},
     "output_type": "execute_result"
    }
   ],
   "source": [
    "import shutil\n",
    "\n",
    "shutil.move('football-players-detection-1/train',\n",
    "            'football-players-detection-1/football-players-detection-1/train'\n",
    "            )\n",
    "\n",
    "shutil.move('football-players-detection-1/test',\n",
    "            'football-players-detection-1/football-players-detection-1/test'\n",
    "            )\n",
    "\n",
    "shutil.move('football-players-detection-1/valid',\n",
    "            'football-players-detection-1/football-players-detection-1/valid'\n",
    "            )"
   ]
  },
  {
   "cell_type": "markdown",
   "metadata": {},
   "source": [
    "# Training\n"
   ]
  },
  {
   "cell_type": "code",
   "execution_count": null,
   "metadata": {},
   "outputs": [],
   "source": [
    "!yolo task=detect mode=train model=yolov5x.pt data={dataset.location}/data.yaml epochs=100 imgsz=640 batch=8"
   ]
  },
  {
   "cell_type": "code",
   "execution_count": null,
   "metadata": {},
   "outputs": [],
   "source": []
  }
 ],
 "metadata": {
  "kernelspec": {
   "display_name": "venv5",
   "language": "python",
   "name": "python3"
  },
  "language_info": {
   "codemirror_mode": {
    "name": "ipython",
    "version": 3
   },
   "file_extension": ".py",
   "mimetype": "text/x-python",
   "name": "python",
   "nbconvert_exporter": "python",
   "pygments_lexer": "ipython3",
   "version": "3.12.4"
  }
 },
 "nbformat": 4,
 "nbformat_minor": 2
}
